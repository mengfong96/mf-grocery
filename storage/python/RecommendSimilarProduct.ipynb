{
 "cells": [
  {
   "cell_type": "code",
   "execution_count": 4,
   "metadata": {},
   "outputs": [],
   "source": [
    "import pandas as pd\n",
    "import numpy as np\n",
    "from sklearn.feature_extraction.text import TfidfVectorizer\n",
    "from sklearn.metrics.pairwise import linear_kernel\n",
    "\n",
    "project_dir=\"C://Users//mf//Desktop//mf-grocery\"\n",
    "csv_file=\"//storage//data//GroceryProductData.csv\"\n",
    "df_data = pd.read_csv(project_dir + csv_file)"
   ]
  },
  {
   "cell_type": "code",
   "execution_count": 5,
   "metadata": {},
   "outputs": [
    {
     "ename": "NameError",
     "evalue": "name 'tfidf_matrix' is not defined",
     "output_type": "error",
     "traceback": [
      "\u001b[1;31m---------------------------------------------------------------------------\u001b[0m",
      "\u001b[1;31mNameError\u001b[0m                                 Traceback (most recent call last)",
      "Input \u001b[1;32mIn [5]\u001b[0m, in \u001b[0;36m<cell line: 1>\u001b[1;34m()\u001b[0m\n\u001b[1;32m----> 1\u001b[0m cosine_sim \u001b[38;5;241m=\u001b[39m linear_kernel(\u001b[43mtfidf_matrix\u001b[49m, tfidf_matrix)\n",
      "\u001b[1;31mNameError\u001b[0m: name 'tfidf_matrix' is not defined"
     ]
    }
   ],
   "source": [
    "cosine_sim = linear_kernel(tfidf_matrix, tfidf_matrix)"
   ]
  },
  {
   "cell_type": "code",
   "execution_count": 6,
   "metadata": {},
   "outputs": [
    {
     "data": {
      "text/plain": [
       "Product_Name\n",
       "Chicken wings          0\n",
       "Chicken breast         1\n",
       "Chicken drumsticks     2\n",
       "Chicken carcass        3\n",
       "Potato                 4\n",
       "Tomato                 5\n",
       "Onion                  6\n",
       "Cauliflower            7\n",
       "Bhendi                 8\n",
       "Spinach                9\n",
       "Curry leaf            10\n",
       "Eggs                  11\n",
       "Sandwich Bread        12\n",
       "Garlic                13\n",
       "Ginger                14\n",
       "Lemongrass            15\n",
       "Curry powder          16\n",
       "Diced chicken         17\n",
       "Salmon                18\n",
       "dtype: int64"
      ]
     },
     "execution_count": 6,
     "metadata": {},
     "output_type": "execute_result"
    }
   ],
   "source": [
    "indices = pd.Series(df_data.index, index = df_data[\"Product_Name\"]).drop_duplicates()\n",
    "indices"
   ]
  },
  {
   "cell_type": "code",
   "execution_count": 7,
   "metadata": {},
   "outputs": [
    {
     "ename": "NameError",
     "evalue": "name 'cosine_sim' is not defined",
     "output_type": "error",
     "traceback": [
      "\u001b[1;31m---------------------------------------------------------------------------\u001b[0m",
      "\u001b[1;31mNameError\u001b[0m                                 Traceback (most recent call last)",
      "Input \u001b[1;32mIn [7]\u001b[0m, in \u001b[0;36m<cell line: 3>\u001b[1;34m()\u001b[0m\n\u001b[0;32m      1\u001b[0m \u001b[38;5;66;03m# Content-based filtering\u001b[39;00m\n\u001b[0;32m      2\u001b[0m \u001b[38;5;66;03m# Function that takes in Product_Name as input and outputs most similar products\u001b[39;00m\n\u001b[1;32m----> 3\u001b[0m \u001b[38;5;28;01mdef\u001b[39;00m \u001b[38;5;21mget_recommendations_similar_product\u001b[39m(title, cosine_sim\u001b[38;5;241m=\u001b[39m\u001b[43mcosine_sim\u001b[49m):\n\u001b[0;32m      4\u001b[0m     \u001b[38;5;66;03m# Get the index of the products that matches the product\u001b[39;00m\n\u001b[0;32m      5\u001b[0m     idx \u001b[38;5;241m=\u001b[39m indices[title]\n\u001b[0;32m      7\u001b[0m     \u001b[38;5;66;03m# Get the pairwsie similarity scores of all products with that product\u001b[39;00m\n",
      "\u001b[1;31mNameError\u001b[0m: name 'cosine_sim' is not defined"
     ]
    }
   ],
   "source": [
    "# Content-based filtering\n",
    "# Function that takes in Product_Name as input and outputs most similar products\n",
    "def get_recommendations_similar_product(title, cosine_sim=cosine_sim):\n",
    "    # Get the index of the products that matches the product\n",
    "    idx = indices[title]\n",
    "\n",
    "    # Get the pairwsie similarity scores of all products with that product\n",
    "    sim_scores = list(enumerate(cosine_sim[idx]))\n",
    "\n",
    "    # Sort the products based on the similarity scores\n",
    "    sim_scores = sorted(sim_scores, key=lambda x: x[1], reverse=True)\n",
    "\n",
    "    # Get the scores of the 10 most similar products\n",
    "    sim_scores = sim_scores[1:11]\n",
    "\n",
    "    # Get the product indices\n",
    "    product_indices = [i[0] for i in sim_scores]\n",
    "\n",
    "    # Return the top 10 most similar products\n",
    "    # can use return\n",
    "    print(df_data['Product_Name'].iloc[product_indices])"
   ]
  },
  {
   "cell_type": "code",
   "execution_count": null,
   "metadata": {},
   "outputs": [],
   "source": [
    "get_recommendations_similar_product('Chicken wings')"
   ]
  }
 ],
 "metadata": {
  "kernelspec": {
   "display_name": "Python 3 (ipykernel)",
   "language": "python",
   "name": "python3"
  },
  "language_info": {
   "codemirror_mode": {
    "name": "ipython",
    "version": 3
   },
   "file_extension": ".py",
   "mimetype": "text/x-python",
   "name": "python",
   "nbconvert_exporter": "python",
   "pygments_lexer": "ipython3",
   "version": "3.10.4"
  }
 },
 "nbformat": 4,
 "nbformat_minor": 4
}
